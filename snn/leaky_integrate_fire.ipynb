{
 "cells": [
  {
   "cell_type": "markdown",
   "metadata": {},
   "source": [
    "# Leaky integrate and fire neuron with Tensorflow\n",
    "\n",
    "From [\"The Leaky Integrate-and-Fire Neuron Model\"](http://www.cns.nyu.edu/~eorhan/notes/lif-neuron.pdf):\n",
    "\n",
    "The leaky integrate-and-fire (LIF) neuron is probably one of the simplest spiking neuron models, but it is still very popular due to the ease with which it can be analyzed and simulated.\n",
    "In its simplest form, a neuron is modeled as a “leaky integrator” of its input I(t):\n",
    "\n",
    "$$\\tau_{m}\\frac{\\partial v}{\\partial t}=-v(t) + RI(t)$$\n",
    "\n",
    "where $v(t)$ represents the membrane potential at time $t$, $\\tau_{m}$ is the membrane time constant and $R$ is the\n",
    "membrane resistance.\n",
    "\n",
    "When the membrane potential reaches the spiking threshold $v_{thresh}$, the neuron 'spikes' and enters a resting state for a duration $\\tau_{rest}$.\n",
    "\n",
    "During the resting perdiod the membrane potential remains constant a $v_{rest}$."
   ]
  },
  {
   "cell_type": "markdown",
   "metadata": {},
   "source": [
    "## Step 1: Create a single LIF model"
   ]
  },
  {
   "cell_type": "code",
   "execution_count": null,
   "metadata": {},
   "outputs": [],
   "source": [
    "# These imports will be used in the notebook\n",
    "from __future__ import print_function\n",
    "\n",
    "import tensorflow as tf\n",
    "import numpy as np\n",
    "import matplotlib.pyplot as plt"
   ]
  },
  {
   "cell_type": "code",
   "execution_count": null,
   "metadata": {},
   "outputs": [],
   "source": [
    "class LIFNeuron(object):\n",
    "    \n",
    "    def __init__(self, v_rest=0.0, v_thresh=1.0, tau_rest=4.0, r=1.0, tau=10.0):\n",
    "        \n",
    "        # Membrane resting potential in mV\n",
    "        self.v_rest = v_rest\n",
    "        # Membrane threshold potential in mV\n",
    "        self.v_thresh = v_thresh\n",
    "        # Duration of the resting period in ms\n",
    "        self.tau_rest = tau_rest\n",
    "        # Membrane resistance in Ohm\n",
    "        self.r = r\n",
    "        # Membrane time constant in ms\n",
    "        self.tau = tau\n",
    "        \n",
    "        self.v = tf.Variable(v_rest, dtype=tf.float32, name='v')\n",
    "        self.t_rest = tf.Variable(0.0, dtype=tf.float32, name='t_rest')\n",
    "        self.i = tf.placeholder(dtype=tf.float32, name='I')\n",
    "        self.dt = tf.placeholder(dtype=tf.float32, name='dt')\n",
    "    \n",
    "    # Neuron behaviour during integration phase (below threshold)\n",
    "    def integrating_op(self):\n",
    "\n",
    "        # Update membrane potential\n",
    "        dv_op = tf.divide(tf.subtract(tf.multiply(self.r, self.i), self.v), self.tau) \n",
    "        v_op = self.v.assign_add(dv_op * self.dt)\n",
    "        # Refractory period is 0\n",
    "        t_rest_op = self.t_rest.assign(0.0)\n",
    "        return tf.tuple((v_op, t_rest_op))\n",
    "\n",
    "    # Neuron behaviour during firing phase (above threshold)    \n",
    "    def firing_op(self):                  \n",
    "\n",
    "        # Reset membrane potential\n",
    "        v_op = self.v.assign(self.v_rest)\n",
    "        # Refractory period starts now\n",
    "        t_rest_op = self.t_rest.assign(self.tau_rest)\n",
    "        return tf.tuple((v_op, t_rest_op))\n",
    "\n",
    "    # Neuron behaviour during resting phase (t_rest > 0)\n",
    "    def resting_op(self):\n",
    "\n",
    "        # Membrane potential stays at v_rest\n",
    "        v_op = self.v.assign(self.v_rest)\n",
    "        # Refractory period is decreased by dt\n",
    "        t_rest_op = self.t_rest.assign_sub(self.dt)\n",
    "        return tf.tuple((v_op, t_rest_op))\n",
    "\n",
    "    def update_op(self):\n",
    "        \n",
    "        return tf.case(\n",
    "            [\n",
    "                (self.t_rest > 0.0, self.resting_op),\n",
    "                (self.v > self.v_thresh, self.firing_op),\n",
    "            ],\n",
    "            default=self.integrating_op\n",
    "        )"
   ]
  },
  {
   "cell_type": "markdown",
   "metadata": {},
   "source": [
    "## Step 2: Stimulation by a square input current\n",
    "\n",
    "We stimulate the neuron with three square input currents of vaying intensity: 0.5, 1.2 and 1.5 mA."
   ]
  },
  {
   "cell_type": "code",
   "execution_count": null,
   "metadata": {},
   "outputs": [],
   "source": [
    "# Simulation with square input currents\n",
    "\n",
    "# Duration of the simulation in ms\n",
    "T = 200\n",
    "# Duration of each time step in ms\n",
    "dt = 1\n",
    "# Number of iterations = T/dt\n",
    "steps = int(T / dt)\n",
    "# Output variables\n",
    "I = []\n",
    "V = []\n",
    "\n",
    "with tf.Session() as sess:\n",
    "\n",
    "    neuron = LIFNeuron()\n",
    "\n",
    "    sess.run(tf.global_variables_initializer())    \n",
    "\n",
    "    update_op = neuron.update_op()\n",
    "\n",
    "    for step in range(steps):\n",
    "        \n",
    "        t = step * dt\n",
    "        # Set input current in mA\n",
    "        if t > 10 and t < 30:\n",
    "            i = 0.5\n",
    "        elif t > 50 and t < 100:\n",
    "            i = 1.2\n",
    "        elif t > 120 and t < 180:\n",
    "            i = 1.5\n",
    "        else:\n",
    "            i = 0.0\n",
    "\n",
    "        I.append(i)\n",
    "\n",
    "        feed = { neuron.i: i, neuron.dt: dt}\n",
    "        \n",
    "        v, _ = sess.run(update_op, feed_dict=feed)\n",
    "        \n",
    "        V.append(v)"
   ]
  },
  {
   "cell_type": "code",
   "execution_count": null,
   "metadata": {},
   "outputs": [],
   "source": [
    "# Draw the input current and the membrane potential\n",
    "%matplotlib inline\n",
    "plt.figure()\n",
    "plt.plot([i for i in I])\n",
    "plt.title('Square input stimuli')\n",
    "plt.ylabel('Input current (I)')\n",
    "plt.xlabel('Time (msec)')\n",
    "plt.figure()\n",
    "plt.plot([v for v in V])\n",
    "plt.title('LIF response')\n",
    "plt.ylabel('Membrane Potential (V)')\n",
    "plt.xlabel('Time (msec)')"
   ]
  },
  {
   "cell_type": "markdown",
   "metadata": {},
   "source": [
    "The first current step is not sufficient to trigger a spike. The two other trigger several spikes whose frequency increases with the input current."
   ]
  },
  {
   "cell_type": "markdown",
   "metadata": {},
   "source": [
    "## Step 3: Stimulation by a random input current\n",
    "\n",
    "We now stimulate the neuron with a varying current corresponding to a normal distribution centered of mean 1.5 mA and standard deviation of 1.0 mA."
   ]
  },
  {
   "cell_type": "code",
   "execution_count": null,
   "metadata": {},
   "outputs": [],
   "source": [
    "# Simulation with random input currents\n",
    "\n",
    "# Duration of the simulation in ms\n",
    "T = 200\n",
    "# Duration of each time step in ms\n",
    "dt = 1\n",
    "# Number of iterations = T/dt\n",
    "steps = int(T / dt)\n",
    "# Output variables\n",
    "I = []\n",
    "V = []\n",
    "\n",
    "with tf.Session() as sess:\n",
    "\n",
    "    neuron = LIFNeuron()\n",
    "\n",
    "    sess.run(tf.global_variables_initializer())    \n",
    "\n",
    "    update_op = neuron.update_op()\n",
    "\n",
    "    for step in range(steps):\n",
    "        \n",
    "        t = step * dt\n",
    "        if t > 10 and t < 180:\n",
    "            i = np.random.normal(1.5, 1.0)\n",
    "        else:\n",
    "            i = 0.0\n",
    "\n",
    "        I.append(i)\n",
    "\n",
    "        feed = { neuron.i: i, neuron.dt: dt}\n",
    "        \n",
    "        v, _ = sess.run(update_op, feed_dict=feed)\n",
    "        \n",
    "        V.append(v)"
   ]
  },
  {
   "cell_type": "code",
   "execution_count": null,
   "metadata": {},
   "outputs": [],
   "source": [
    "# Draw the input current and the membrane potential\n",
    "plt.figure()\n",
    "plt.plot([i for i in I])\n",
    "plt.title('Random input stimuli')\n",
    "plt.ylabel('Input current (I)')\n",
    "plt.xlabel('Time (msec)')\n",
    "plt.figure()\n",
    "plt.plot([v for v in V])\n",
    "plt.title('LIF response')\n",
    "plt.ylabel('Membrane Potential (V)')\n",
    "plt.xlabel('Time (msec)')"
   ]
  },
  {
   "cell_type": "markdown",
   "metadata": {},
   "source": [
    "The input current triggers spike at regular intervals: the neuron mostly saturates, each spike being separated by the resting period."
   ]
  }
 ],
 "metadata": {
  "kernelspec": {
   "display_name": "Python 2",
   "language": "python",
   "name": "python2"
  },
  "language_info": {
   "codemirror_mode": {
    "name": "ipython",
    "version": 2
   },
   "file_extension": ".py",
   "mimetype": "text/x-python",
   "name": "python",
   "nbconvert_exporter": "python",
   "pygments_lexer": "ipython2",
   "version": "2.7.12"
  }
 },
 "nbformat": 4,
 "nbformat_minor": 2
}
